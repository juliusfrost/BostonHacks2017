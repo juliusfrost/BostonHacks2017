{
 "cells": [
  {
   "cell_type": "markdown",
   "metadata": {
    "slideshow": {
     "slide_type": "slide"
    }
   },
   "source": [
    "# BostonHacks\n",
    "\n",
    "<center> <img src=\"https://bostonhacks.io/public/img/terrierLogo.png\" style=\"width: 300px;\" /> </center>"
   ]
  },
  {
   "cell_type": "markdown",
   "metadata": {
    "slideshow": {
     "slide_type": "subslide"
    }
   },
   "source": [
    "## Comparative study in Neural Networks\n",
    "\n",
    "Train a Fully-Connected Neural Network, Simple Convolutional Neural Network and Large Convolutional Neural Network using the MNIST dataset (handwritten digits)\n"
   ]
  },
  {
   "cell_type": "markdown",
   "metadata": {
    "slideshow": {
     "slide_type": "slide"
    }
   },
   "source": [
    "### Loading the MNIST dataset in Keras\n",
    "\n",
    "Plot ad hoc mnist instances"
   ]
  },
  {
   "cell_type": "code",
   "execution_count": 3,
   "metadata": {
    "slideshow": {
     "slide_type": "fragment"
    }
   },
   "outputs": [
    {
     "data": {
      "image/png": "[encoded data removed]",
      "text/plain": [
       "<matplotlib.figure.Figure at 0x7f66767280b8>"
      ]
     },
     "metadata": {},
     "output_type": "display_data"
    }
   ],
   "source": [
    "from keras.datasets import mnist\n",
    "import matplotlib.pyplot as plt\n",
    "# load (downloaded if needed) the MNIST dataset\n",
    "(X_train, y_train), (X_test, y_test) = mnist.load_data()\n",
    "\n",
    "# plot 4 images as gray scale\n",
    "plt.subplot(221)\n",
    "plt.imshow(X_train[0], cmap = plt.get_cmap('gray'))\n",
    "plt.subplot(222)\n",
    "plt.imshow(X_train[1], cmap = plt.get_cmap('gray'))\n",
    "plt.subplot(223)\n",
    "plt.imshow(X_train[2], cmap = plt.get_cmap('gray'))\n",
    "plt.subplot(224)\n",
    "plt.imshow(X_train[3], cmap = plt.get_cmap('gray'))\n",
    "\n",
    "# show the plot\n",
    "plt.show()"
   ]
  },
  {
   "cell_type": "markdown",
   "metadata": {
    "slideshow": {
     "slide_type": "slide"
    }
   },
   "source": [
    "## Baseline Model with Multi-Layer Perceptrons"
   ]
  },
  {
   "cell_type": "markdown",
   "metadata": {
    "slideshow": {
     "slide_type": "subslide"
    }
   },
   "source": [
    "### Complete all imports "
   ]
  },
  {
   "cell_type": "code",
   "execution_count": 7,
   "metadata": {
    "collapsed": true,
    "slideshow": {
     "slide_type": "fragment"
    }
   },
   "outputs": [],
   "source": [
    "import numpy as np\n",
    "from keras.datasets import mnist\n",
    "from keras.models import Sequential\n",
    "from keras.layers import Dense\n",
    "from keras.layers import Dropout\n",
    "from keras.utils import np_utils"
   ]
  },
  {
   "cell_type": "markdown",
   "metadata": {
    "slideshow": {
     "slide_type": "fragment"
    }
   },
   "source": [
    "#### Fix random seed for reproducibility"
   ]
  },
  {
   "cell_type": "code",
   "execution_count": 8,
   "metadata": {
    "collapsed": true,
    "slideshow": {
     "slide_type": "fragment"
    }
   },
   "outputs": [],
   "source": [
    "seed = 7\n",
    "np.random.seed(seed)"
   ]
  },
  {
   "cell_type": "markdown",
   "metadata": {
    "slideshow": {
     "slide_type": "subslide"
    }
   },
   "source": [
    "### Load data and transform it as the input of a Fully-Connected Neural Network\n",
    "\n",
    "That is, <br />\n",
    "The shape of the input data is currently a 28x28 pixel image but <br />\n",
    "Fully-Connected Neural Network needs one row input per data point <br /><br />\n",
    "So, we transform the 28x28 image to a 784 vector for each image"
   ]
  },
  {
   "cell_type": "code",
   "execution_count": 9,
   "metadata": {
    "collapsed": true,
    "slideshow": {
     "slide_type": "fragment"
    }
   },
   "outputs": [],
   "source": [
    "# load data\n",
    "(X_train, y_train), (X_test, y_test) = mnist.load_data()\n",
    "\n",
    "# flatten 28*28 images to a 784 vector for each image\n",
    "num_pixels = X_train.shape[1] * X_train.shape[2]\n",
    "X_train = X_train.reshape(X_train.shape[0], num_pixels).astype('float32')\n",
    "X_test = X_test.reshape(X_test.shape[0], num_pixels).astype('float32')"
   ]
  },
  {
   "cell_type": "markdown",
   "metadata": {
    "slideshow": {
     "slide_type": "fragment"
    }
   },
   "source": [
    "#### Normalize"
   ]
  },
  {
   "cell_type": "code",
   "execution_count": 10,
   "metadata": {
    "collapsed": true,
    "slideshow": {
     "slide_type": "fragment"
    }
   },
   "outputs": [],
   "source": [
    "# It is almost always a good idea to perform some scaling\n",
    "#  of input values when using neural network models.\n",
    "# Because the scale is well known and well behaved.\n",
    "# Reduces extreme values (extreme values can lead to mis-classification).\n",
    "\n",
    "# normalize inputs from 0-255 to 0-1\n",
    "X_train = X_train / 255\n",
    "X_test = X_test / 255\n",
    "\n",
    "# one hot encode outputs\n",
    "y_train = np_utils.to_categorical(y_train)\n",
    "y_test = np_utils.to_categorical(y_test)\n",
    "num_classes = y_test.shape[1]"
   ]
  },
  {
   "cell_type": "markdown",
   "metadata": {
    "slideshow": {
     "slide_type": "subslide"
    }
   },
   "source": [
    "### Define the model for the Fully-Connected Neural Network"
   ]
  },
  {
   "cell_type": "code",
   "execution_count": 11,
   "metadata": {
    "collapsed": true,
    "slideshow": {
     "slide_type": "fragment"
    }
   },
   "outputs": [],
   "source": [
    "# define baseline model\n",
    "def baseline_fcnn_model():\n",
    "    \n",
    "    # Models in Keras can come in two forms – Sequential and via the Functional API.\n",
    "    \n",
    "    # For most deep learning networks that people build,\n",
    "    #  the Sequential model is likely what isl used.\n",
    "    \n",
    "    # It allows us to easily stack layers (and even recurrent layers)\n",
    "    #  of the network in order from input to output.\n",
    "    \n",
    "    # The functional API allows us to build more complicated architectures,\n",
    "    #  but for this workshop we won't be needing it.\n",
    "    \n",
    "    # create model\n",
    "    model = Sequential()\n",
    "    \n",
    "    # Add a fc layer which takes input of num_pixels (784) defined previously\n",
    "    # This layer also has an output of 'num_pixels' features, defined by 'units'\n",
    "    # Follow this layer's neurons with a ReLU activation\n",
    "    model.add(Dense(units = num_pixels, input_dim = num_pixels, activation = 'relu'))\n",
    "    \n",
    "    # Add a fc layer which takes input from the previous layer\n",
    "    # This layer also has an output of 'num_classes' features, defined by 'units'\n",
    "    # Follow this layer's neurons with a softmax activation\n",
    "    #  to get probability predictions\n",
    "    model.add(Dense(units = num_classes, activation = 'softmax'))\n",
    "    \n",
    "    # Compile model, same as initializing model and allocating space to the model\n",
    "    model.compile(loss='categorical_crossentropy',\n",
    "                  optimizer = 'adam',\n",
    "                  metrics = ['accuracy'])\n",
    "    \n",
    "    return model"
   ]
  },
  {
   "cell_type": "markdown",
   "metadata": {
    "slideshow": {
     "slide_type": "subslide"
    }
   },
   "source": [
    "### Finally, the train and test the model and print a classification error rate"
   ]
  },
  {
   "cell_type": "code",
   "execution_count": 12,
   "metadata": {
    "slideshow": {
     "slide_type": "fragment"
    }
   },
   "outputs": [
    {
     "name": "stdout",
     "output_type": "stream",
     "text": [
      "Train on 60000 samples, validate on 10000 samples\n",
      "Epoch 1/10\n",
      "60000/60000 [==============================] - 4s - loss: 0.2782 - acc: 0.9212 - val_loss: 0.1408 - val_acc: 0.9590\n",
      "Epoch 2/10\n",
      "60000/60000 [==============================] - 4s - loss: 0.1125 - acc: 0.9670 - val_loss: 0.0911 - val_acc: 0.9718\n",
      "Epoch 3/10\n",
      "60000/60000 [==============================] - 4s - loss: 0.0725 - acc: 0.9794 - val_loss: 0.0800 - val_acc: 0.9765\n",
      "Epoch 4/10\n",
      "60000/60000 [==============================] - 4s - loss: 0.0513 - acc: 0.9849 - val_loss: 0.0739 - val_acc: 0.9784\n",
      "Epoch 5/10\n",
      "60000/60000 [==============================] - 4s - loss: 0.0378 - acc: 0.9893 - val_loss: 0.0655 - val_acc: 0.9802\n",
      "Epoch 6/10\n",
      "60000/60000 [==============================] - 4s - loss: 0.0273 - acc: 0.9927 - val_loss: 0.0640 - val_acc: 0.9804\n",
      "Epoch 7/10\n",
      "60000/60000 [==============================] - 4s - loss: 0.0222 - acc: 0.9940 - val_loss: 0.0625 - val_acc: 0.9810\n",
      "Epoch 8/10\n",
      "60000/60000 [==============================] - 4s - loss: 0.0145 - acc: 0.9967 - val_loss: 0.0585 - val_acc: 0.9812\n",
      "Epoch 9/10\n",
      "60000/60000 [==============================] - 4s - loss: 0.0118 - acc: 0.9973 - val_loss: 0.0557 - val_acc: 0.9818\n",
      "Epoch 10/10\n",
      "60000/60000 [==============================] - 4s - loss: 0.0089 - acc: 0.9981 - val_loss: 0.0568 - val_acc: 0.9821\n",
      "Baseline FCNN Error: 1.79%\n"
     ]
    }
   ],
   "source": [
    "# build the model\n",
    "model = baseline_fcnn_model()\n",
    "\n",
    "# train the model\n",
    "model.fit(X_train, y_train,\n",
    "          validation_data = (X_test, y_test),\n",
    "          epochs = 10, batch_size = 200)\n",
    "\n",
    "# evaluate of the model, return (accuracy, loss)\n",
    "scores = model.evaluate(X_test, y_test, verbose=0)\n",
    "\n",
    "print(\"Baseline FCNN Error: %.2f%%\" % (100 - scores[1] * 100))"
   ]
  },
  {
   "cell_type": "markdown",
   "metadata": {
    "collapsed": true,
    "slideshow": {
     "slide_type": "slide"
    }
   },
   "source": [
    "## Simple Convolutional Neural Network"
   ]
  },
  {
   "cell_type": "markdown",
   "metadata": {
    "slideshow": {
     "slide_type": "subslide"
    }
   },
   "source": [
    "### Complete all imports "
   ]
  },
  {
   "cell_type": "code",
   "execution_count": 8,
   "metadata": {
    "collapsed": true,
    "slideshow": {
     "slide_type": "fragment"
    }
   },
   "outputs": [],
   "source": [
    "import numpy\n",
    "from keras.datasets import mnist\n",
    "from keras.models import Sequential\n",
    "from keras.layers import Dense\n",
    "from keras.layers import Dropout\n",
    "from keras.layers import Flatten\n",
    "from keras.layers.convolutional import Conv2D\n",
    "from keras.layers.convolutional import MaxPooling2D\n",
    "from keras.utils import np_utils"
   ]
  },
  {
   "cell_type": "markdown",
   "metadata": {
    "slideshow": {
     "slide_type": "fragment"
    }
   },
   "source": [
    "#### Fix random seed for reproducibility"
   ]
  },
  {
   "cell_type": "code",
   "execution_count": 9,
   "metadata": {
    "collapsed": true,
    "slideshow": {
     "slide_type": "fragment"
    }
   },
   "outputs": [],
   "source": [
    "seed = 7\n",
    "np.random.seed(seed)"
   ]
  },
  {
   "cell_type": "markdown",
   "metadata": {
    "slideshow": {
     "slide_type": "subslide"
    }
   },
   "source": [
    "### Load data and transform it as the input of a Convolutional Neural Network \n",
    "\n",
    "That is, <br />\n",
    "The shape of the input data is currently a 28x28 pixel image but <br />\n",
    "Convolutional Neural Network needs to know the number of channels, i.e. RGB has 3 channels, greyscale has 1,<br /><br />\n",
    "So, we transform the 28x28 image to a (height, width, channels) vector for each image. <br /><br />\n",
    "Note: (height, width, channels) dimension ordering applies to tensorflow or tf. <br />\n",
    "Keras also supports Theano where the ordering has to be (channels, height, width)"
   ]
  },
  {
   "cell_type": "code",
   "execution_count": 10,
   "metadata": {
    "collapsed": true,
    "slideshow": {
     "slide_type": "fragment"
    }
   },
   "outputs": [],
   "source": [
    "# load data\n",
    "(X_train, y_train), (X_test, y_test) = mnist.load_data()\n",
    "\n",
    "# reshape to be [samples][height][width][channel]\n",
    "X_train = X_train.reshape(X_train.shape[0], 28, 28, 1).astype('float32')\n",
    "X_test = X_test.reshape(X_test.shape[0], 28, 28, 1).astype('float32')"
   ]
  },
  {
   "cell_type": "markdown",
   "metadata": {
    "slideshow": {
     "slide_type": "fragment"
    }
   },
   "source": [
    "#### Normalize"
   ]
  },
  {
   "cell_type": "code",
   "execution_count": 11,
   "metadata": {
    "collapsed": true,
    "slideshow": {
     "slide_type": "fragment"
    }
   },
   "outputs": [],
   "source": [
    "# Normalize input as before\n",
    "\n",
    "# normalize inputs from 0-255 to 0-1\n",
    "X_train = X_train / 255\n",
    "X_test = X_test / 255\n",
    "\n",
    "# one hot encode outputs\n",
    "y_train = np_utils.to_categorical(y_train)\n",
    "y_test = np_utils.to_categorical(y_test)\n",
    "num_classes = y_test.shape[1]"
   ]
  },
  {
   "cell_type": "markdown",
   "metadata": {
    "slideshow": {
     "slide_type": "subslide"
    }
   },
   "source": [
    "### Define the model for the Simple Convolutional Neural Network"
   ]
  },
  {
   "cell_type": "code",
   "execution_count": 12,
   "metadata": {
    "collapsed": true,
    "slideshow": {
     "slide_type": "fragment"
    }
   },
   "outputs": [],
   "source": [
    "# define baseline model\n",
    "def baseline_cnn_model():\n",
    "    \n",
    "    # create model\n",
    "    model = Sequential()\n",
    "    \n",
    "    # Add a conv layer which takes input of (28, 28, 1) defined previously\n",
    "    #  does a convolution over a 5x5 kernel window\n",
    "    # This layer also has an output of 32 features, defined by 'filters'\n",
    "    # Follow this layer's neurons with a ReLU activation\n",
    "    model.add(Conv2D(filters = 32, kernel_size = (5, 5),\n",
    "                     input_shape = (28, 28, 1), activation = 'relu'))\n",
    "    \n",
    "    # Add a maxpooling of 2x2, i.e. maxpool width by 2 and height by 2\n",
    "    model.add(MaxPooling2D(pool_size = (2, 2)))\n",
    "    \n",
    "    # Add a dropout, this helps us overcome overfitting\n",
    "    # Dropout randomly changes x% of data input with 0's \n",
    "    # In this case, 20%\n",
    "    model.add(Dropout(0.2))\n",
    "    \n",
    "    # Recall how we talked about the input of a fc layer,\n",
    "    #  it cannot be a matrix and but has to be single row per data point\n",
    "    #  so we flatten the matrix output of a conv layer\n",
    "    #  or maxpooling layer into one row\n",
    "    model.add(Flatten())\n",
    "    \n",
    "    # Add a fc layer which takes input from the previous layer\n",
    "    # This layer also has an output of 128 features, defined by 'filters'\n",
    "    # Follow this layer's neurons with a ReLU activation\n",
    "    model.add(Dense(units = 128, activation='relu'))\n",
    "    \n",
    "    # Add a fc layer which takes input from the previous layer\n",
    "    # This layer also has an output of 'num_classes' features, defined by 'units'\n",
    "    # Follow this layer's neurons with a softmax activation\n",
    "    #  to get probability predictions\n",
    "    model.add(Dense(units = num_classes, activation='softmax'))\n",
    "    \n",
    "    # Compile model, same as initializing model and allocating space to the model\n",
    "    model.compile(loss = 'categorical_crossentropy',\n",
    "                  optimizer = 'adam',\n",
    "                  metrics = ['accuracy'])\n",
    "    \n",
    "    return model"
   ]
  },
  {
   "cell_type": "markdown",
   "metadata": {
    "slideshow": {
     "slide_type": "subslide"
    }
   },
   "source": [
    "### Finally, the train and test the model and print a classification error rate"
   ]
  },
  {
   "cell_type": "code",
   "execution_count": 13,
   "metadata": {
    "slideshow": {
     "slide_type": "fragment"
    }
   },
   "outputs": [
    {
     "name": "stdout",
     "output_type": "stream",
     "text": [
      "Train on 60000 samples, validate on 10000 samples\n",
      "Epoch 1/10\n",
      "60000/60000 [==============================] - 25s - loss: 0.2235 - acc: 0.9363 - val_loss: 0.0744 - val_acc: 0.9776\n",
      "Epoch 2/10\n",
      "60000/60000 [==============================] - 26s - loss: 0.0713 - acc: 0.9784 - val_loss: 0.0472 - val_acc: 0.9840\n",
      "Epoch 3/10\n",
      "60000/60000 [==============================] - 25s - loss: 0.0509 - acc: 0.9844 - val_loss: 0.0433 - val_acc: 0.9852\n",
      "Epoch 4/10\n",
      "60000/60000 [==============================] - 25s - loss: 0.0404 - acc: 0.9872 - val_loss: 0.0387 - val_acc: 0.9873\n",
      "Epoch 5/10\n",
      "60000/60000 [==============================] - 25s - loss: 0.0323 - acc: 0.9900 - val_loss: 0.0339 - val_acc: 0.9892\n",
      "Epoch 6/10\n",
      "60000/60000 [==============================] - 25s - loss: 0.0263 - acc: 0.9918 - val_loss: 0.0329 - val_acc: 0.9901\n",
      "Epoch 7/10\n",
      "60000/60000 [==============================] - 25s - loss: 0.0221 - acc: 0.9927 - val_loss: 0.0351 - val_acc: 0.9889\n",
      "Epoch 8/10\n",
      "60000/60000 [==============================] - 25s - loss: 0.0191 - acc: 0.9939 - val_loss: 0.0332 - val_acc: 0.9892\n",
      "Epoch 9/10\n",
      "60000/60000 [==============================] - 27s - loss: 0.0162 - acc: 0.9950 - val_loss: 0.0295 - val_acc: 0.9892\n",
      "Epoch 10/10\n",
      "60000/60000 [==============================] - 27s - loss: 0.0132 - acc: 0.9960 - val_loss: 0.0287 - val_acc: 0.9914\n",
      "Baseline CNN Error: 0.86%\n"
     ]
    }
   ],
   "source": [
    "# build the model\n",
    "model = baseline_cnn_model()\n",
    "\n",
    "# train the model\n",
    "model.fit(X_train, y_train,\n",
    "          validation_data = (X_test, y_test),\n",
    "          epochs = 10, batch_size = 200)\n",
    "\n",
    "# evaluate of the model, return (accuracy, loss)\n",
    "scores = model.evaluate(X_test, y_test, verbose = 0)\n",
    "\n",
    "print(\"Baseline CNN Error: %.2f%%\" % (100 - scores[1] * 100))"
   ]
  },
  {
   "cell_type": "markdown",
   "metadata": {
    "collapsed": true,
    "slideshow": {
     "slide_type": "slide"
    }
   },
   "source": [
    "## Large Convolutional Neural Network"
   ]
  },
  {
   "cell_type": "markdown",
   "metadata": {
    "slideshow": {
     "slide_type": "subslide"
    }
   },
   "source": [
    "### Complete all imports \n",
    "#### Fix random seed for reproducibility\n",
    "### Load data and transform it as the input of a Convolutional Neural Network"
   ]
  },
  {
   "cell_type": "code",
   "execution_count": 14,
   "metadata": {
    "collapsed": true,
    "slideshow": {
     "slide_type": "fragment"
    }
   },
   "outputs": [],
   "source": [
    "# Larger CNN for the MNIST Dataset\n",
    "import numpy\n",
    "from keras.datasets import mnist\n",
    "from keras.models import Sequential\n",
    "from keras.layers import Dense\n",
    "from keras.layers import Dropout\n",
    "from keras.layers import Flatten\n",
    "from keras.layers.convolutional import Conv2D\n",
    "from keras.layers.convolutional import MaxPooling2D\n",
    "from keras.utils import np_utils\n",
    "\n",
    "# fix random seed for reproducibility\n",
    "seed = 7\n",
    "numpy.random.seed(seed)\n",
    "\n",
    "# load data\n",
    "(X_train, y_train), (X_test, y_test) = mnist.load_data()\n",
    "\n",
    "# reshape to be [samples][height][width][channel]\n",
    "X_train = X_train.reshape(X_train.shape[0], 28, 28, 1).astype('float32')\n",
    "X_test = X_test.reshape(X_test.shape[0], 28, 28, 1).astype('float32')\n",
    "\n",
    "# normalize inputs from 0-255 to 0-1\n",
    "X_train = X_train / 255\n",
    "X_test = X_test / 255\n",
    "\n",
    "# one hot encode outputs\n",
    "y_train = np_utils.to_categorical(y_train)\n",
    "y_test = np_utils.to_categorical(y_test)\n",
    "num_classes = y_test.shape[1]"
   ]
  },
  {
   "cell_type": "markdown",
   "metadata": {
    "slideshow": {
     "slide_type": "subslide"
    }
   },
   "source": [
    "### Define the model for the Fully-Connected Neural Network"
   ]
  },
  {
   "cell_type": "code",
   "execution_count": 15,
   "metadata": {
    "collapsed": true,
    "slideshow": {
     "slide_type": "fragment"
    }
   },
   "outputs": [],
   "source": [
    "# define baseline model\n",
    "def larger_model():\n",
    "    \n",
    "    # create model\n",
    "    model = Sequential()\n",
    "    \n",
    "    # Add a conv layer which takes input of (28, 28, 1) defined previously\n",
    "    #  does a convolution over a 5x5 kernel window\n",
    "    # This layer also has an output of 32 features, defined by 'filters'\n",
    "    # Follow this layer's neurons with a ReLU activation\n",
    "    model.add(Conv2D(filters = 32, kernel_size = (5, 5), \n",
    "                     input_shape = (28, 28, 1), activation = 'relu'))\n",
    "    \n",
    "    # Add a maxpooling of 2x2, i.e. maxpool width by 2 and height by 2\n",
    "    model.add(MaxPooling2D(pool_size = (2, 2)))\n",
    "    \n",
    "    # Add a conv layer which takes input from the previous layer\n",
    "    #  does a convolution over a 3x3 kernel window\n",
    "    # This layer also has an output of 16 features, defined by 'filters'\n",
    "    # Follow this layer's neurons with a ReLU activation\n",
    "    model.add(Conv2D(filters = 16, kernel_size = (3, 3), activation = 'relu'))\n",
    "    \n",
    "    # Add a maxpooling of 2x2, i.e. maxpool width by 2 and height by 2\n",
    "    model.add(MaxPooling2D(pool_size = (2, 2)))\n",
    "    \n",
    "    # Add a dropout, this helps us overcome overfitting\n",
    "    # Dropout randomly changes x% of data input with 0's \n",
    "    # In this case, 20%\n",
    "    model.add(Dropout(0.2))\n",
    "    \n",
    "    # Add a flatten layer\n",
    "    model.add(Flatten())\n",
    "    \n",
    "    # Add a fc layer which takes input from the previous layer\n",
    "    # This layer also has an output of 128 features, defined by 'filters'\n",
    "    # Follow this layer's neurons with a ReLU activation\n",
    "    model.add(Dense(units = 128, activation='relu'))\n",
    "    \n",
    "    # Add a fc layer which takes input from the previous layer\n",
    "    # This layer also has an output of 64 features, defined by 'filters'\n",
    "    # Follow this layer's neurons with a ReLU activation\n",
    "    model.add(Dense(units = 64, activation='relu'))\n",
    "    \n",
    "    # Add a fc layer which takes input from the previous layer\n",
    "    # This layer also has an output of 'num_classes' features, defined by 'units'\n",
    "    # Follow this layer's neurons with a softmax activation\n",
    "    #  to get probability predictions\n",
    "    model.add(Dense(units = num_classes, activation = 'softmax'))\n",
    "    \n",
    "    # Compile model, same as initializing model and allocating space to the model\n",
    "    model.compile(loss = 'categorical_crossentropy', \n",
    "                  optimizer = 'adam',\n",
    "                  metrics = ['accuracy'])\n",
    "    \n",
    "    return model\n"
   ]
  },
  {
   "cell_type": "markdown",
   "metadata": {
    "slideshow": {
     "slide_type": "subslide"
    }
   },
   "source": [
    "### Finally, the train and test the model and print a classification error rate"
   ]
  },
  {
   "cell_type": "code",
   "execution_count": 16,
   "metadata": {
    "slideshow": {
     "slide_type": "fragment"
    }
   },
   "outputs": [
    {
     "name": "stdout",
     "output_type": "stream",
     "text": [
      "Train on 60000 samples, validate on 10000 samples\n",
      "Epoch 1/10\n",
      "60000/60000 [==============================] - 27s - loss: 0.3869 - acc: 0.8795 - val_loss: 0.0912 - val_acc: 0.9728\n",
      "Epoch 2/10\n",
      "60000/60000 [==============================] - 26s - loss: 0.1051 - acc: 0.9683 - val_loss: 0.0560 - val_acc: 0.9826\n",
      "Epoch 3/10\n",
      "60000/60000 [==============================] - 26s - loss: 0.0747 - acc: 0.9768 - val_loss: 0.0417 - val_acc: 0.9861\n",
      "Epoch 4/10\n",
      "60000/60000 [==============================] - 26s - loss: 0.0596 - acc: 0.9815 - val_loss: 0.0357 - val_acc: 0.9893\n",
      "Epoch 5/10\n",
      "60000/60000 [==============================] - 26s - loss: 0.0496 - acc: 0.9846 - val_loss: 0.0363 - val_acc: 0.9881\n",
      "Epoch 6/10\n",
      "60000/60000 [==============================] - 26s - loss: 0.0446 - acc: 0.9858 - val_loss: 0.0296 - val_acc: 0.9911\n",
      "Epoch 7/10\n",
      "60000/60000 [==============================] - 27s - loss: 0.0382 - acc: 0.9876 - val_loss: 0.0347 - val_acc: 0.9880\n",
      "Epoch 8/10\n",
      "60000/60000 [==============================] - 26s - loss: 0.0346 - acc: 0.9891 - val_loss: 0.0295 - val_acc: 0.9894\n",
      "Epoch 9/10\n",
      "60000/60000 [==============================] - 26s - loss: 0.0313 - acc: 0.9900 - val_loss: 0.0255 - val_acc: 0.9910\n",
      "Epoch 10/10\n",
      "60000/60000 [==============================] - 26s - loss: 0.0279 - acc: 0.9911 - val_loss: 0.0280 - val_acc: 0.9898\n",
      "Large CNN Error: 1.02%\n"
     ]
    }
   ],
   "source": [
    "# build the model\n",
    "model = larger_model()\n",
    "\n",
    "# train the model\n",
    "model.fit(X_train, y_train,\n",
    "          validation_data = (X_test, y_test),\n",
    "          epochs = 10, batch_size = 200)\n",
    "\n",
    "# evaluate of the model, return (accuracy, loss)\n",
    "scores = model.evaluate(X_test, y_test, verbose = 0)\n",
    "\n",
    "print(\"Large CNN Error: %.2f%%\" % (100 - scores[1] * 100))"
   ]
  },
  {
   "cell_type": "markdown",
   "metadata": {
    "slideshow": {
     "slide_type": "notes"
    }
   },
   "source": []
  }
 ],
 "metadata": {
  "celltoolbar": "Slideshow",
  "kernelspec": {
   "display_name": "Python 3",
   "language": "python",
   "name": "python3"
  },
  "language_info": {
   "codemirror_mode": {
    "name": "ipython",
    "version": 3
   },
   "file_extension": ".py",
   "mimetype": "text/x-python",
   "name": "python",
   "nbconvert_exporter": "python",
   "pygments_lexer": "ipython3",
   "version": "3.6.3"
  }
 },
 "nbformat": 4,
 "nbformat_minor": 2
}
